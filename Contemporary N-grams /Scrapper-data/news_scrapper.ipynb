{
 "cells": [
  {
   "cell_type": "code",
   "execution_count": 1,
   "metadata": {},
   "outputs": [],
   "source": [
    "from bs4 import BeautifulSoup\n",
    "import requests\n",
    "import pandas as pd"
   ]
  },
  {
   "cell_type": "code",
   "execution_count": 245,
   "metadata": {},
   "outputs": [],
   "source": [
    "dates = list()\n",
    "link = list()\n",
    "title = list()\n",
    "content = list()\n",
    "para=list()\n"
   ]
  },
  {
   "cell_type": "code",
   "execution_count": 246,
   "metadata": {},
   "outputs": [],
   "source": [
    "page = requests.get(\"https://www.nature.com/nature/articles?searchType=journalSearch&sort=PubDate&year=2017&page=60\")\n",
    "soup = BeautifulSoup(page.content, 'html.parser')"
   ]
  },
  {
   "cell_type": "code",
   "execution_count": 247,
   "metadata": {},
   "outputs": [],
   "source": [
    "container = soup.find('ul', {'class' : 'ma0 mb-negative-2 clean-list grid-auto-fill'})\n",
    "articles = container.find_all('article')\n",
    "date = container.find_all('time')\n",
    "links = container.find_all('a')"
   ]
  },
  {
   "cell_type": "code",
   "execution_count": 248,
   "metadata": {},
   "outputs": [],
   "source": [
    "for i in date:\n",
    "    dates.append(i.get('datetime'))\n",
    "\n",
    "for i in links:\n",
    "    link.append(i.get('href'))"
   ]
  },
  {
   "cell_type": "code",
   "execution_count": 249,
   "metadata": {},
   "outputs": [
    {
     "name": "stdout",
     "output_type": "stream",
     "text": [
      "[u'2017-03-06', u'2017-03-06', u'2017-03-06', u'2017-03-06', u'2017-03-06', u'2017-03-03', u'2017-03-02', u'2017-03-02', u'2017-03-02', u'2017-03-02', u'2017-03-01', u'2017-03-01', u'2017-03-01', u'2017-03-01', u'2017-03-01', u'2017-03-01', u'2017-03-01', u'2017-03-01', u'2017-03-01', u'2017-03-01', u'2017-03-01', u'2017-03-01', u'2017-03-01', u'2017-03-01', u'2017-03-01', u'2017-03-01', u'2017-03-01', u'2017-03-01', u'2017-03-01', u'2017-03-01', u'2017-03-01', u'2017-03-01', u'2017-03-01', u'2017-03-01', u'2017-03-01', u'2017-03-01', u'2017-03-01', u'2017-03-01', u'2017-03-01', u'2017-03-01', u'2017-03-01', u'2017-03-01', u'2017-03-01', u'2017-03-01', u'2017-03-01', u'2017-03-01', u'2017-03-01', u'2017-03-01', u'2017-03-01', u'2017-03-01']\n"
     ]
    },
    {
     "data": {
      "text/plain": [
       "50"
      ]
     },
     "execution_count": 249,
     "metadata": {},
     "output_type": "execute_result"
    }
   ],
   "source": [
    "print(dates)\n",
    "len(dates)"
   ]
  },
  {
   "cell_type": "code",
   "execution_count": 250,
   "metadata": {},
   "outputs": [
    {
     "data": {
      "text/plain": [
       "50"
      ]
     },
     "execution_count": 250,
     "metadata": {},
     "output_type": "execute_result"
    }
   ],
   "source": [
    "len(link)"
   ]
  },
  {
   "cell_type": "code",
   "execution_count": 251,
   "metadata": {},
   "outputs": [],
   "source": [
    "for j in link:\n",
    "    url = j\n",
    "    try:\n",
    "        conpage = requests.get('https://www.nature.com'+url)\n",
    "        soup1 = BeautifulSoup(conpage.text, 'html.parser')\n",
    "        container2 = soup1.find('div', {'class' : ['article__body serif cleared','pl20 mq875-pl0 js-collapsible-section','pl20 mq875-pl0 serif','article-item__body serif','content no-heading cleared main-content']})\n",
    "        text1 = container2.find_all('p')\n",
    "    except AttributeError:\n",
    "        print(\"Error in this:\"+url)\n",
    "    s=list()\n",
    "    for p in text1:\n",
    "        text = p.get_text()\n",
    "        s.append(text)\n",
    "    para.append(s)"
   ]
  },
  {
   "cell_type": "code",
   "execution_count": 3,
   "metadata": {},
   "outputs": [
    {
     "ename": "NameError",
     "evalue": "name 'para' is not defined",
     "output_type": "error",
     "traceback": [
      "\u001b[0;31m---------------------------------------------------------------------------\u001b[0m",
      "\u001b[0;31mNameError\u001b[0m                                 Traceback (most recent call last)",
      "\u001b[0;32m<ipython-input-3-1215d0a4c59b>\u001b[0m in \u001b[0;36m<module>\u001b[0;34m()\u001b[0m\n\u001b[0;32m----> 1\u001b[0;31m \u001b[0ml\u001b[0m \u001b[0;34m=\u001b[0m \u001b[0;34m[\u001b[0m\u001b[0;34m''\u001b[0m\u001b[0;34m.\u001b[0m\u001b[0mjoin\u001b[0m\u001b[0;34m(\u001b[0m\u001b[0mx\u001b[0m\u001b[0;34m)\u001b[0m \u001b[0;32mfor\u001b[0m \u001b[0mx\u001b[0m \u001b[0;32min\u001b[0m \u001b[0mpara\u001b[0m\u001b[0;34m]\u001b[0m\u001b[0;34m\u001b[0m\u001b[0m\n\u001b[0m",
      "\u001b[0;31mNameError\u001b[0m: name 'para' is not defined"
     ]
    }
   ],
   "source": [
    "l = [''.join(x) for x in para]"
   ]
  },
  {
   "cell_type": "code",
   "execution_count": 253,
   "metadata": {},
   "outputs": [],
   "source": [
    "df1 = pd.DataFrame(list(zip(*[dates, l])), columns = [\"date\", \"content\"])"
   ]
  },
  {
   "cell_type": "code",
   "execution_count": 254,
   "metadata": {},
   "outputs": [
    {
     "data": {
      "text/plain": [
       "50"
      ]
     },
     "execution_count": 254,
     "metadata": {},
     "output_type": "execute_result"
    }
   ],
   "source": [
    "len(l)"
   ]
  },
  {
   "cell_type": "code",
   "execution_count": 255,
   "metadata": {},
   "outputs": [],
   "source": [
    "with open('temp1.json', 'w') as f:\n",
    "    f.write(df1.to_json(orient='records', lines=True))"
   ]
  },
  {
   "cell_type": "code",
   "execution_count": 244,
   "metadata": {},
   "outputs": [
    {
     "name": "stdout",
     "output_type": "stream",
     "text": [
      "50\n"
     ]
    }
   ],
   "source": [
    "print(df1.shape[0])"
   ]
  },
  {
   "cell_type": "code",
   "execution_count": null,
   "metadata": {},
   "outputs": [],
   "source": []
  }
 ],
 "metadata": {
  "kernelspec": {
   "display_name": "Python 2",
   "language": "python",
   "name": "python2"
  },
  "language_info": {
   "codemirror_mode": {
    "name": "ipython",
    "version": 2
   },
   "file_extension": ".py",
   "mimetype": "text/x-python",
   "name": "python",
   "nbconvert_exporter": "python",
   "pygments_lexer": "ipython2",
   "version": "2.7.15"
  }
 },
 "nbformat": 4,
 "nbformat_minor": 2
}
