{
 "cells": [
  {
   "cell_type": "markdown",
   "metadata": {},
   "source": [
    "# This program is used for counting single words only."
   ]
  },
  {
   "cell_type": "code",
   "execution_count": 1,
   "metadata": {},
   "outputs": [],
   "source": [
    "import pymongo"
   ]
  },
  {
   "cell_type": "code",
   "execution_count": 2,
   "metadata": {},
   "outputs": [],
   "source": [
    "myclient = pymongo.MongoClient(\"mongodb://localhost:27017/\")\n",
    "mydb = myclient['newsTemp']   # Enter your database name\n",
    "mycol = mydb['articles']     # Enter your collection name"
   ]
  },
  {
   "cell_type": "code",
   "execution_count": 3,
   "metadata": {},
   "outputs": [],
   "source": [
    "records = mycol.find()"
   ]
  },
  {
   "cell_type": "code",
   "execution_count": 6,
   "metadata": {},
   "outputs": [],
   "source": [
    "uniqueWordCount = {}\n",
    "wordCount = {}"
   ]
  },
  {
   "cell_type": "code",
   "execution_count": 1,
   "metadata": {},
   "outputs": [
    {
     "ename": "NameError",
     "evalue": "name 'records' is not defined",
     "output_type": "error",
     "traceback": [
      "\u001b[0;31m---------------------------------------------------------------------------\u001b[0m",
      "\u001b[0;31mNameError\u001b[0m                                 Traceback (most recent call last)",
      "\u001b[0;32m<ipython-input-1-ac5db652c105>\u001b[0m in \u001b[0;36m<module>\u001b[0;34m()\u001b[0m\n\u001b[1;32m      1\u001b[0m \u001b[0mi\u001b[0m \u001b[0;34m=\u001b[0m \u001b[0;36m0\u001b[0m\u001b[0;34m\u001b[0m\u001b[0m\n\u001b[0;32m----> 2\u001b[0;31m \u001b[0;32mfor\u001b[0m \u001b[0mrow\u001b[0m \u001b[0;32min\u001b[0m \u001b[0mrecords\u001b[0m\u001b[0;34m:\u001b[0m\u001b[0;34m\u001b[0m\u001b[0m\n\u001b[0m\u001b[1;32m      3\u001b[0m     \u001b[0mcontent\u001b[0m \u001b[0;34m=\u001b[0m \u001b[0mrow\u001b[0m\u001b[0;34m[\u001b[0m\u001b[0;34m'content'\u001b[0m\u001b[0;34m]\u001b[0m\u001b[0;34m\u001b[0m\u001b[0m\n\u001b[1;32m      4\u001b[0m     \u001b[0mcontent\u001b[0m \u001b[0;34m=\u001b[0m \u001b[0mcontent\u001b[0m\u001b[0;34m.\u001b[0m\u001b[0msplit\u001b[0m\u001b[0;34m(\u001b[0m\u001b[0;34m)\u001b[0m\u001b[0;34m\u001b[0m\u001b[0m\n\u001b[1;32m      5\u001b[0m     \u001b[0mcontent\u001b[0m \u001b[0;34m=\u001b[0m \u001b[0mlist\u001b[0m\u001b[0;34m(\u001b[0m\u001b[0mfilter\u001b[0m\u001b[0;34m(\u001b[0m\u001b[0;32mlambda\u001b[0m \u001b[0mx\u001b[0m\u001b[0;34m:\u001b[0m \u001b[0mx\u001b[0m\u001b[0;34m.\u001b[0m\u001b[0misalnum\u001b[0m\u001b[0;34m(\u001b[0m\u001b[0;34m)\u001b[0m\u001b[0;34m,\u001b[0m \u001b[0mcontent\u001b[0m\u001b[0;34m)\u001b[0m\u001b[0;34m)\u001b[0m\u001b[0;34m\u001b[0m\u001b[0m\n",
      "\u001b[0;31mNameError\u001b[0m: name 'records' is not defined"
     ]
    }
   ],
   "source": [
    "i = 0\n",
    "for row in records:\n",
    "    content = row['content']\n",
    "    content = content.split()\n",
    "    content = list(filter(lambda x: x.isalnum(), content))\n",
    "    content = list(map(lambda x: x.lower(), content))\n",
    "    if (content is None) or (len(content) == 0):\n",
    "        content = ['']\n",
    "        \n",
    "    for word in content:\n",
    "        if word == '':\n",
    "            continue\n",
    "        temp1 = wordCount.pop(word, False)\n",
    "        if temp1 is False:\n",
    "            wordCount[word] = {row['date']: 1}\n",
    "        else:\n",
    "            temp2 = temp1.pop(row['date'], False)\n",
    "            if temp2 is False:\n",
    "                temp1[row['date']] = 1\n",
    "            else:\n",
    "                temp1[row['date']] = temp2 + 1\n",
    "            wordCount[word] = temp1\n",
    "            \n",
    "        temp = uniqueWordCount.pop(word, False)\n",
    "        if temp is False:\n",
    "            uniqueWordCount[word] = 1\n",
    "        else:\n",
    "            uniqueWordCount[word] = temp + 1\n",
    "          \n",
    "        \n",
    "    # Just to check progress\n",
    "    i += 1\n",
    "    if i % 1000 == 0:\n",
    "        print \"Completed \" + str(i)\n",
    "    "
   ]
  },
  {
   "cell_type": "code",
   "execution_count": 9,
   "metadata": {},
   "outputs": [
    {
     "name": "stdout",
     "output_type": "stream",
     "text": [
      "233267\n"
     ]
    }
   ],
   "source": [
    "print len(wordCount.keys())"
   ]
  },
  {
   "cell_type": "code",
   "execution_count": 21,
   "metadata": {},
   "outputs": [],
   "source": [
    "res = [None] * len(wordCount.keys())"
   ]
  },
  {
   "cell_type": "code",
   "execution_count": 22,
   "metadata": {},
   "outputs": [],
   "source": [
    "i = 0\n",
    "for word in wordCount.keys():\n",
    "    tempObj = {\n",
    "        \"word\": word,\n",
    "        \"countByDate\": wordCount[word]\n",
    "    }\n",
    "    res[i] = tempObj\n",
    "    i += 1"
   ]
  },
  {
   "cell_type": "code",
   "execution_count": 23,
   "metadata": {},
   "outputs": [],
   "source": [
    "newDb = myclient['ngramCounts']\n",
    "newCol = newDb['allNgrams']\n",
    "x = newCol.insert_many(res)"
   ]
  },
  {
   "cell_type": "code",
   "execution_count": 24,
   "metadata": {},
   "outputs": [
    {
     "name": "stdout",
     "output_type": "stream",
     "text": [
      "233267\n"
     ]
    }
   ],
   "source": [
    "print len(uniqueWordCount.keys())"
   ]
  },
  {
   "cell_type": "code",
   "execution_count": 25,
   "metadata": {},
   "outputs": [],
   "source": [
    "arr = [None] * len(uniqueWordCount.keys())\n",
    "i = 0\n",
    "for word in uniqueWordCount.keys():\n",
    "    tempJson = {\n",
    "        \"word\": word,\n",
    "        \"count\": uniqueWordCount[word]\n",
    "    }\n",
    "    arr[i] = tempJson\n",
    "    i += 1"
   ]
  },
  {
   "cell_type": "code",
   "execution_count": 26,
   "metadata": {},
   "outputs": [],
   "source": [
    "newDb = myclient['uniqueWordCount']\n",
    "newCol = newDb['uniqueCount']\n",
    "x = newCol.insert_many(arr)"
   ]
  },
  {
   "cell_type": "code",
   "execution_count": 27,
   "metadata": {},
   "outputs": [],
   "source": [
    "newDb = myclient['uniqueWordCount']\n",
    "newCol = newDb['oneGram']\n",
    "x = newCol.insert_many(arr)"
   ]
  },
  {
   "cell_type": "code",
   "execution_count": 28,
   "metadata": {},
   "outputs": [],
   "source": [
    "newDb = myclient['ngramCount']\n",
    "newCol = newDb['oneGram']\n",
    "x = newCol.insert_many(res)"
   ]
  }
 ],
 "metadata": {
  "kernelspec": {
   "display_name": "Python 2",
   "language": "python",
   "name": "python2"
  },
  "language_info": {
   "codemirror_mode": {
    "name": "ipython",
    "version": 2
   },
   "file_extension": ".py",
   "mimetype": "text/x-python",
   "name": "python",
   "nbconvert_exporter": "python",
   "pygments_lexer": "ipython2",
   "version": "2.7.15"
  }
 },
 "nbformat": 4,
 "nbformat_minor": 2
}
