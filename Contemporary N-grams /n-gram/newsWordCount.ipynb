{
 "cells": [
  {
   "cell_type": "code",
   "execution_count": 1,
   "metadata": {},
   "outputs": [],
   "source": [
    "import pymongo"
   ]
  },
  {
   "cell_type": "code",
   "execution_count": 2,
   "metadata": {},
   "outputs": [],
   "source": [
    "myclient = pymongo.MongoClient(\"mongodb://localhost:27017/\")\n",
    "mydb = myclient['newsTemp']   # Enter your database name\n",
    "mycol = mydb['articles']      # Enter your collection name"
   ]
  },
  {
   "cell_type": "code",
   "execution_count": 13,
   "metadata": {},
   "outputs": [],
   "source": [
    "records = mycol.find()"
   ]
  },
  {
   "cell_type": "code",
   "execution_count": 4,
   "metadata": {},
   "outputs": [],
   "source": [
    "tempHt = {}\n",
    "uniqueWordCount = {}"
   ]
  },
  {
   "cell_type": "code",
   "execution_count": 15,
   "metadata": {},
   "outputs": [],
   "source": [
    "for row in records:\n",
    "    content = row['content']\n",
    "    content = content.split()\n",
    "    content = list(filter(lambda x: x.isalnum(), content))\n",
    "    content = list(map(lambda x: x.lower(), content))\n",
    "    \n",
    "    wordCount = {}\n",
    "    for word in content:\n",
    "        temp = wordCount.pop(word, False)\n",
    "        if temp is False:\n",
    "            wordCount[word] = 1\n",
    "        else:\n",
    "            wordCount[word] = temp + 1\n",
    "            \n",
    "        temp = uniqueWordCount.pop(word, False)\n",
    "        if temp is False:\n",
    "            uniqueWordCount[word] = 1\n",
    "        else:\n",
    "            uniqueWordCount[word] = temp + 1\n",
    "            \n",
    "    temp = tempHt.pop(row['date'], False)\n",
    "    if temp is False:\n",
    "        tempHt[row['date']] = wordCount\n",
    "    else:\n",
    "        for word in wordCount.keys():\n",
    "            temp1 = temp.pop(word, False)\n",
    "            if temp1 is False:\n",
    "                temp[word] = wordCount[word]\n",
    "            else:\n",
    "                temp[word] = temp1 + wordCount[word]\n",
    "                \n",
    "        tempHt[row['date']] = temp\n",
    "        \n",
    "        \n",
    "    #print content\n",
    "    #break"
   ]
  },
  {
   "cell_type": "code",
   "execution_count": 39,
   "metadata": {},
   "outputs": [
    {
     "name": "stdout",
     "output_type": "stream",
     "text": [
      "11662\n"
     ]
    }
   ],
   "source": [
    "print uniqueWordCount['washington']"
   ]
  },
  {
   "cell_type": "code",
   "execution_count": 33,
   "metadata": {},
   "outputs": [],
   "source": [
    "res = [None] * len(uniqueWordCount.keys())"
   ]
  },
  {
   "cell_type": "code",
   "execution_count": 34,
   "metadata": {},
   "outputs": [],
   "source": [
    "i = 0\n",
    "for word in uniqueWordCount.keys():\n",
    "    tempJSON = {'words': word}\n",
    "    dateHt = {}\n",
    "    for eachDate in tempHt.keys():\n",
    "        wordsForDate = tempHt[eachDate]\n",
    "        tempCount = wordsForDate.pop(word, False)\n",
    "        if tempCount is not False:\n",
    "            dateHt[eachDate] = tempCount\n",
    "            wordsForDate[word] = tempCount\n",
    "            \n",
    "    tempJSON['countByDate'] = dateHt\n",
    "    res[i] = tempJSON\n",
    "    i += 1"
   ]
  },
  {
   "cell_type": "code",
   "execution_count": 37,
   "metadata": {},
   "outputs": [
    {
     "name": "stdout",
     "output_type": "stream",
     "text": [
      "{'countByDate': {u'2017-04-06': 1, u'2017-04-14': 1, u'2017-05-03': 1, u'2015-01-26': 1, u'2016-08-15': 1, u'2017-03-12': 1, u'2017-05-13': 1, u'2017-03-13': 1, u'2017-03-23': 1, u'2016-06-03': 1, u'2016-08-08': 4, u'2016-02-23': 1, u'2017-03-09': 1, u'2017-02-05': 3, u'2015-06-22': 1, u'2017-02-10': 1, u'2017-02-09': 1, u'2015-04-14': 1, u'2017-01-13': 1}, 'words': u'handbags'}\n"
     ]
    }
   ],
   "source": [
    "print res[1200]"
   ]
  },
  {
   "cell_type": "code",
   "execution_count": 38,
   "metadata": {},
   "outputs": [],
   "source": [
    "newDB = myclient['counts']  # New databse\n",
    "newCol = newDB['wordCount'] # New collection\n",
    "x = newCol.insert_many(res)"
   ]
  }
 ],
 "metadata": {
  "kernelspec": {
   "display_name": "Python 2",
   "language": "python",
   "name": "python2"
  },
  "language_info": {
   "codemirror_mode": {
    "name": "ipython",
    "version": 2
   },
   "file_extension": ".py",
   "mimetype": "text/x-python",
   "name": "python",
   "nbconvert_exporter": "python",
   "pygments_lexer": "ipython2",
   "version": "2.7.15"
  }
 },
 "nbformat": 4,
 "nbformat_minor": 2
}
