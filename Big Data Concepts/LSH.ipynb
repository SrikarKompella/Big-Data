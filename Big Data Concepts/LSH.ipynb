{
 "cells": [
  {
   "cell_type": "code",
   "execution_count": 1,
   "metadata": {},
   "outputs": [],
   "source": [
    "from pyspark.context import SparkContext\n",
    "from pyspark.sql.session import SparkSession\n",
    "sc = SparkContext('local')\n",
    "spark = SparkSession(sc)"
   ]
  },
  {
   "cell_type": "code",
   "execution_count": 2,
   "metadata": {},
   "outputs": [],
   "source": [
    "import sys\n",
    "import numpy as np\n",
    "import os\n",
    "import binascii\n",
    "from pyspark.ml.feature import MinHashLSH\n",
    "from pyspark.ml.linalg import Vectors\n",
    "from pyspark.sql.functions import col"
   ]
  },
  {
   "cell_type": "code",
   "execution_count": 9,
   "metadata": {},
   "outputs": [],
   "source": [
    "directory = os.listdir('/Users/Bayernlad/Downloads/cookbook_text')\n",
    "dataArr = [None] * (len(directory)-72)"
   ]
  },
  {
   "cell_type": "code",
   "execution_count": 10,
   "metadata": {},
   "outputs": [],
   "source": [
    "for i in range(len(directory)-72):\n",
    "    f = open('/Users/Bayernlad/Downloads/cookbook_text/' + str(directory[i]), 'r')\n",
    "    words = f.read().split()\n",
    "    shingles = []\n",
    "    \n",
    "    j = 0\n",
    "    while j < len(words):\n",
    "        if words[j].isalnum() is False:\n",
    "            del words[j]\n",
    "        else:\n",
    "            j += 1\n",
    "            \n",
    "    for j in range(len(words) - 2):\n",
    "        shingle = words[j] + \" \" + words[j + 1] + \" \" + words[j + 2]\n",
    "        crc = binascii.crc32(shingle) & 0xffffffff\n",
    "        shingles.append(crc)\n",
    "        \n",
    "    f.close()\n",
    "    \n",
    "    for j in range(len(shingles)):\n",
    "        shingles[j] = float(shingles[j])\n",
    "        \n",
    "    shingles.sort()\n",
    "    j = 0\n",
    "    while j < len(shingles):\n",
    "        if (shingles[j] >= 2 ** 31) or (shingles[j] < 0):\n",
    "            del shingles[j]\n",
    "        else:\n",
    "            j += 1\n",
    "            \n",
    "    data = [(i, Vectors.dense(np.array(shingles)))]\n",
    "    df = spark.createDataFrame(data, [\"id\", \"features\"])\n",
    "    dataArr[i] = df"
   ]
  },
  {
   "cell_type": "code",
   "execution_count": 12,
   "metadata": {},
   "outputs": [
    {
     "name": "stdout",
     "output_type": "stream",
     "text": [
      "+--------+--------+------------------+\n",
      "|henr.txt|cclu.txt|   JaccardDistance|\n",
      "+--------+--------+------------------+\n",
      "|       0|       1|0.8367974753953209|\n",
      "+--------+--------+------------------+\n",
      "\n",
      "+--------+--------+------------------+\n",
      "|henr.txt|beec.txt|   JaccardDistance|\n",
      "+--------+--------+------------------+\n",
      "|       0|       2|0.5060220448843835|\n",
      "+--------+--------+------------------+\n",
      "\n",
      "+--------+--------+------------------+\n",
      "|henr.txt|hous.txt|   JaccardDistance|\n",
      "+--------+--------+------------------+\n",
      "|       0|       3|0.7568138217565528|\n",
      "+--------+--------+------------------+\n",
      "\n",
      "+--------+--------+------------------+\n",
      "|cclu.txt|beec.txt|   JaccardDistance|\n",
      "+--------+--------+------------------+\n",
      "|       1|       2|0.6696157735085946|\n",
      "+--------+--------+------------------+\n",
      "\n",
      "+--------+--------+------------------+\n",
      "|cclu.txt|hous.txt|   JaccardDistance|\n",
      "+--------+--------+------------------+\n",
      "|       1|       3|0.3288988470335621|\n",
      "+--------+--------+------------------+\n",
      "\n",
      "+--------+--------+------------------+\n",
      "|beec.txt|hous.txt|   JaccardDistance|\n",
      "+--------+--------+------------------+\n",
      "|       2|       3|0.5076983178600974|\n",
      "+--------+--------+------------------+\n",
      "\n"
     ]
    }
   ],
   "source": [
    "mh = MinHashLSH(inputCol=\"features\", outputCol=\"hashes\", numHashTables=5)\n",
    "for i in range(len(directory)-72):\n",
    "    model = mh.fit(dataArr[i])\n",
    "    for j in range(i + 1, len(directory)-72):\n",
    "        model.approxSimilarityJoin(dataArr[i], dataArr[j], float(2 ** 64), distCol=\"JaccardDistance\")\\\n",
    "        .select(col(\"datasetA.id\").alias(directory[i]),\n",
    "                col(\"datasetB.id\").alias(directory[j]),\n",
    "                col(\"JaccardDistance\")).show()"
   ]
  },
  {
   "cell_type": "code",
   "execution_count": null,
   "metadata": {},
   "outputs": [],
   "source": []
  }
 ],
 "metadata": {
  "kernelspec": {
   "display_name": "Python 2",
   "language": "python",
   "name": "python2"
  },
  "language_info": {
   "codemirror_mode": {
    "name": "ipython",
    "version": 2
   },
   "file_extension": ".py",
   "mimetype": "text/x-python",
   "name": "python",
   "nbconvert_exporter": "python",
   "pygments_lexer": "ipython2",
   "version": "2.7.15"
  }
 },
 "nbformat": 4,
 "nbformat_minor": 2
}
